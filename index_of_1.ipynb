{
 "cells": [
  {
   "cell_type": "code",
   "execution_count": 3,
   "id": "2ea43fe8-ee4c-4641-8387-81f101aa91f6",
   "metadata": {},
   "outputs": [
    {
     "name": "stdout",
     "output_type": "stream",
     "text": [
      "index of 1 is -1\n"
     ]
    }
   ],
   "source": [
    "import numpy as np\n",
    "arr = np.array([0,0,1,1,0,1,1,0,1,0,1])\n",
    "def last_index_of_one(arr):\n",
    "    # Initialize index to -1\n",
    "    index = -1\n",
    "    # Traverse the array\n",
    "    for i in range(len(arr)):\n",
    "        if arr[i] == 1:\n",
    "            index = i # Update the index when '1' is found\n",
    "            # Return the last index of '1'\n",
    "return index_of_1.ipynb\n",
    "Result = last_index_of_one(arr)\n",
    "print(\"index of 1 is\",Result)"
   ]
  },
  {
   "cell_type": "code",
   "execution_count": null,
   "id": "866856bf-3015-4ff4-92a8-ee514bf07347",
   "metadata": {},
   "outputs": [],
   "source": []
  }
 ],
 "metadata": {
  "kernelspec": {
   "display_name": "Python 3 (ipykernel)",
   "language": "python",
   "name": "python3"
  },
  "language_info": {
   "codemirror_mode": {
    "name": "ipython",
    "version": 3
   },
   "file_extension": ".py",
   "mimetype": "text/x-python",
   "name": "python",
   "nbconvert_exporter": "python",
   "pygments_lexer": "ipython3",
   "version": "3.12.4"
  }
 },
 "nbformat": 4,
 "nbformat_minor": 5
}
