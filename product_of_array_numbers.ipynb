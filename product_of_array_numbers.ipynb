{
 "cells": [
  {
   "cell_type": "code",
   "execution_count": 9,
   "id": "e2570da1-bc12-46bc-95d4-1c72077c00c8",
   "metadata": {},
   "outputs": [
    {
     "name": "stdin",
     "output_type": "stream",
     "text": [
      "Enter the size of the array:  5\n",
      "Enter 5 integers separated by spaces:  1 2 3 4 5\n"
     ]
    },
    {
     "name": "stdout",
     "output_type": "stream",
     "text": [
      "the product is of all number except that particular index during iterations\n",
      "The product array is: [120, 60, 40, 30, 24]\n"
     ]
    }
   ],
   "source": [
    "#user input without function\n",
    "# Initialize the size of an array to 'n'\n",
    "n = int(input(\"Enter the size of the array: \"))\n",
    "\n",
    "# Scan the array of 'n' integers\n",
    "arr = list(map(int, input(f\"Enter {n} integers separated by spaces: \").split()))\n",
    "\n",
    "# Create a new array as 'prod_arr' to store new elements\n",
    "prod_arr = []\n",
    "\n",
    "# For any element in the array, the new element is the product of the remaining elements\n",
    "for i in range(n):\n",
    "    product = 1\n",
    "    for j in range(n):\n",
    "        if i != j:  # Exclude the current element\n",
    "            product *= arr[j]\n",
    "    prod_arr.append(product)\n",
    "\n",
    "# Print the resulting product array\n",
    "print(\"the product is of all number except that particular index during iterations\")\n",
    "print(\"The product array is:\", prod_arr)\n"
   ]
  },
  {
   "cell_type": "code",
   "execution_count": 11,
   "id": "ff7b9352-4acb-4722-9c11-3a936585d95a",
   "metadata": {},
   "outputs": [
    {
     "name": "stdout",
     "output_type": "stream",
     "text": [
      "Original Array: [1, 2, 3, 4, 5]\n",
      "Product Array: [120, 60, 40, 30, 24]\n"
     ]
    }
   ],
   "source": [
    "#with function\n",
    "def productExceptSelf(arr):\n",
    "    n = len(arr)\n",
    "    # Initialize the result list as 1\n",
    "    res = [1] * n\n",
    "    for i in range(n):\n",
    "        # Compute the product of all except arr[i]\n",
    "        for j in range(n):\n",
    "            if i != j:\n",
    "                res[i] *= arr[j]\n",
    "    return res\n",
    "\n",
    "# Input array\n",
    "arr = [1, 2, 3, 4, 5]\n",
    "print(\"Original Array:\", arr)\n",
    "\n",
    "# Calculate the special product array\n",
    "result = productExceptSelf(arr)\n",
    "print(\"Product Array:\", result)"
   ]
  },
  {
   "cell_type": "code",
   "execution_count": null,
   "id": "cca87434-b4d0-443f-88f9-d51634614bb0",
   "metadata": {},
   "outputs": [],
   "source": []
  }
 ],
 "metadata": {
  "kernelspec": {
   "display_name": "Python 3 (ipykernel)",
   "language": "python",
   "name": "python3"
  },
  "language_info": {
   "codemirror_mode": {
    "name": "ipython",
    "version": 3
   },
   "file_extension": ".py",
   "mimetype": "text/x-python",
   "name": "python",
   "nbconvert_exporter": "python",
   "pygments_lexer": "ipython3",
   "version": "3.12.4"
  }
 },
 "nbformat": 4,
 "nbformat_minor": 5
}
