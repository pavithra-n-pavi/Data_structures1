{
 "cells": [
  {
   "cell_type": "code",
   "execution_count": 1,
   "id": "c5a091f0-05a6-4321-b186-ab3a9d6252e0",
   "metadata": {},
   "outputs": [
    {
     "name": "stdin",
     "output_type": "stream",
     "text": [
      " 5\n",
      " 2\n",
      " 3\n",
      " 8\n",
      " 1\n",
      " 4\n"
     ]
    },
    {
     "name": "stdout",
     "output_type": "stream",
     "text": [
      "[2, 3, 8, 1, 4]\n",
      "[6, 24, 8, 4]\n"
     ]
    }
   ],
   "source": [
    "n=int(input())\n",
    "a=[]\n",
    "for i in range(n):\n",
    "    b=int(input())\n",
    "    a.append(b)\n",
    "print(a)\n",
    "output = []\n",
    "for i in range( len(a) - 1):\n",
    "    output.append(a[i] * a[i+1] )\n",
    "\n",
    "print(output)\n"
   ]
  },
  {
   "cell_type": "code",
   "execution_count": 2,
   "id": "29998406-8bf7-48a6-8022-ae796b920d5f",
   "metadata": {},
   "outputs": [
    {
     "name": "stdout",
     "output_type": "stream",
     "text": [
      "After sorting [(1, 2), (2, 3), (4, 4), (2, 5)]\n"
     ]
    }
   ],
   "source": [
    "num=[(2,5),(1,2),(4,4),(2,3)]\n",
    "size=len(num)\n",
    "for i in range(0,size):\n",
    "    for j in range(0,size-i-1):\n",
    "        if num[j][1]>num[j+1][1]:\n",
    "            num[j],num[j+1]=num[j+1],num[j]\n",
    "\n",
    "print('After sorting',num)"
   ]
  },
  {
   "cell_type": "code",
   "execution_count": null,
   "id": "465d7471-c4ee-4c7b-8412-717f829a439a",
   "metadata": {},
   "outputs": [],
   "source": []
  },
  {
   "cell_type": "code",
   "execution_count": null,
   "id": "3e2eca3f-51cf-4e81-97d5-ca5d29077494",
   "metadata": {},
   "outputs": [],
   "source": []
  }
 ],
 "metadata": {
  "kernelspec": {
   "display_name": "Python 3 (ipykernel)",
   "language": "python",
   "name": "python3"
  },
  "language_info": {
   "codemirror_mode": {
    "name": "ipython",
    "version": 3
   },
   "file_extension": ".py",
   "mimetype": "text/x-python",
   "name": "python",
   "nbconvert_exporter": "python",
   "pygments_lexer": "ipython3",
   "version": "3.12.4"
  }
 },
 "nbformat": 4,
 "nbformat_minor": 5
}
