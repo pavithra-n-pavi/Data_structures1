{
 "cells": [
  {
   "cell_type": "code",
   "execution_count": 3,
   "id": "22bc3b2e-e2f7-48fb-ae5a-d36097a455b8",
   "metadata": {},
   "outputs": [
    {
     "name": "stdout",
     "output_type": "stream",
     "text": [
      "orginal array\n",
      "[[1 2 3]\n",
      " [4 5 6]]\n",
      "Transpose array\n",
      "[[1 4]\n",
      " [2 5]\n",
      " [3 6]]\n"
     ]
    }
   ],
   "source": [
    "import numpy as np\n",
    "arr1=np.array([[1,2,3],[4,5,6]])\n",
    "print('orginal array')\n",
    "print(arr1)\n",
    "result=np.transpose(arr1)\n",
    "print('Transpose array')\n",
    "print(result)"
   ]
  },
  {
   "cell_type": "code",
   "execution_count": null,
   "id": "59fad91c-3c67-4335-8077-aeb54f4f4858",
   "metadata": {},
   "outputs": [],
   "source": []
  }
 ],
 "metadata": {
  "kernelspec": {
   "display_name": "Python 3 (ipykernel)",
   "language": "python",
   "name": "python3"
  },
  "language_info": {
   "codemirror_mode": {
    "name": "ipython",
    "version": 3
   },
   "file_extension": ".py",
   "mimetype": "text/x-python",
   "name": "python",
   "nbconvert_exporter": "python",
   "pygments_lexer": "ipython3",
   "version": "3.12.4"
  }
 },
 "nbformat": 4,
 "nbformat_minor": 5
}
