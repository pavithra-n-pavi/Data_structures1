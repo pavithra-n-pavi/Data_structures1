{
 "cells": [
  {
   "cell_type": "code",
   "execution_count": 7,
   "id": "63c92256-3dcd-4092-9a3e-425b3c89152c",
   "metadata": {},
   "outputs": [
    {
     "name": "stdout",
     "output_type": "stream",
     "text": [
      "Move disc 1 from pole A to pole C\n",
      "Move disc 2 from pole A to pole B\n",
      "Move disc 1 from pole C to pole B\n",
      "Move disc 3 from pole A to pole C\n",
      "Move disc 1 from pole B to pole A\n",
      "Move disc 2 from pole B to pole C\n",
      "Move disc 1 from pole A to pole C\n"
     ]
    }
   ],
   "source": [
    "def TowerOfHanoi(n , s_pole, d_pole, i_pole):\n",
    "  if n == 1:\n",
    "    print(\"Move disc 1 from pole\",s_pole,\"to pole\",d_pole)\n",
    "    return\n",
    "  TowerOfHanoi(n-1, s_pole, i_pole, d_pole)\n",
    "  print(\"Move disc\",n,\"from pole\",s_pole,\"to pole\",d_pole)\n",
    "  TowerOfHanoi(n-1, i_pole, d_pole, s_pole)\n",
    "\n",
    "n = 3\n",
    "TowerOfHanoi(n, 'A', 'C', 'B') # A, C, B are the name of poles\n"
   ]
  },
  {
   "cell_type": "code",
   "execution_count": 17,
   "id": "cdaf4975-a5e4-4e93-95ca-904555437d47",
   "metadata": {},
   "outputs": [
    {
     "name": "stdout",
     "output_type": "stream",
     "text": [
      "Total moves: 7\n"
     ]
    }
   ],
   "source": [
    "def TowerOfHanoi(n , s_pole, d_pole, i_pole):\n",
    "    if n == 1:\n",
    "        return 1  # Base case: Moving one disk takes one move\n",
    "    moves = 0\n",
    "    moves += TowerOfHanoi(n-1, s_pole, i_pole, d_pole)  # Move n-1 disks to auxiliary pole\n",
    "    moves += 1  # Move the largest disk to the destination pole\n",
    "    moves += TowerOfHanoi(n-1, i_pole, d_pole, s_pole)  # Move n-1 disks from auxiliary to destination pole\n",
    "    return moves\n",
    "\n",
    "n = 3\n",
    "total_moves = TowerOfHanoi(n, 'A', 'C', 'B') # A, C, B are the name of poles\n",
    "print(\"Total moves:\", total_moves)"
   ]
  },
  {
   "cell_type": "code",
   "execution_count": null,
   "id": "fd30bf8b-117c-4e14-8850-bd6bfeddc9ba",
   "metadata": {},
   "outputs": [],
   "source": []
  }
 ],
 "metadata": {
  "kernelspec": {
   "display_name": "Python 3 (ipykernel)",
   "language": "python",
   "name": "python3"
  },
  "language_info": {
   "codemirror_mode": {
    "name": "ipython",
    "version": 3
   },
   "file_extension": ".py",
   "mimetype": "text/x-python",
   "name": "python",
   "nbconvert_exporter": "python",
   "pygments_lexer": "ipython3",
   "version": "3.12.4"
  }
 },
 "nbformat": 4,
 "nbformat_minor": 5
}
